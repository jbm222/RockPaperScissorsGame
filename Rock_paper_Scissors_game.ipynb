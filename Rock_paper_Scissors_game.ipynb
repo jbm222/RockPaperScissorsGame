{
  "nbformat": 4,
  "nbformat_minor": 0,
  "metadata": {
    "colab": {
      "provenance": [],
      "authorship_tag": "ABX9TyMJ2fswDGUsI/sm8mRD/ket",
      "include_colab_link": true
    },
    "kernelspec": {
      "name": "python3",
      "display_name": "Python 3"
    },
    "language_info": {
      "name": "python"
    }
  },
  "cells": [
    {
      "cell_type": "markdown",
      "metadata": {
        "id": "view-in-github",
        "colab_type": "text"
      },
      "source": [
        "<a href=\"https://colab.research.google.com/github/jbm222/RockPaperScissorsGame/blob/main/Rock_paper_Scissors_game.ipynb\" target=\"_parent\"><img src=\"https://colab.research.google.com/assets/colab-badge.svg\" alt=\"Open In Colab\"/></a>"
      ]
    },
    {
      "cell_type": "code",
      "execution_count": null,
      "metadata": {
        "colab": {
          "base_uri": "https://localhost:8080/"
        },
        "id": "yGgxZuNx2eMD",
        "outputId": "5302218e-e5c8-4a98-8c55-16a2a5b04fac"
      },
      "outputs": [
        {
          "name": "stdout",
          "output_type": "stream",
          "text": [
            "do you want to play the game (y/n)y\n",
            "Enter your choice (rock, paper, or scissors): rock\n",
            "You chose: rock\n",
            "Computer chose: rock\n",
            "It's a tie!\n",
            "play again?(y/n)y\n",
            "Enter your choice (rock, paper, or scissors): scissors\n",
            "You chose: scissors\n",
            "Computer chose: scissors\n",
            "It's a tie!\n",
            "play again?(y/n)n\n"
          ]
        }
      ],
      "source": [
        "import random\n",
        "user_choice = input(\"do you want to play the game (y/n)\")\n",
        "while user_choice == \"y\":\n",
        "  user_choice = input(\"Enter your choice (rock, paper, or scissors): \")\n",
        "  computer_choice = random.choice([\"rock\", \"paper\", \"scissors\"])\n",
        "\n",
        "  print(f\"You chose: {user_choice}\")\n",
        "  print(f\"Computer chose: {computer_choice}\")\n",
        "\n",
        "  if user_choice == computer_choice:\n",
        "    print(\"It's a tie!\")\n",
        "  elif (\n",
        "    (user_choice == \"rock\" and computer_choice == \"scissors\") or\n",
        "    (user_choice == \"paper\" and computer_choice == \"rock\") or\n",
        "    (user_choice == \"scissors\" and computer_choice == \"paper\")\n",
        "):\n",
        "    print(\"You win!\")\n",
        "  else:\n",
        "    print(\"Computer wins!\")\n",
        "  user_choice = input(\"play again?(y/n)\")\n"
      ]
    },
    {
      "cell_type": "code",
      "source": [
        "down = 100000\n",
        "deposit = 10000\n",
        "amount = 5000\n",
        "nmonths = 0\n",
        "while deposit <= down:\n",
        "  deposit = deposit+amount\n",
        "  nmonths = nmonths +1\n"
      ],
      "metadata": {
        "id": "flv7_i9bAx8N"
      },
      "execution_count": null,
      "outputs": []
    }
  ]
}